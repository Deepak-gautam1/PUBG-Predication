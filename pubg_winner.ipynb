{
 "cells": [
  {
   "cell_type": "code",
   "execution_count": 2,
   "id": "be41839b-63ce-4040-8c3c-7ff129d66db4",
   "metadata": {},
   "outputs": [],
   "source": [
    "# Basic libraries\n",
    "import numpy as np \n",
    "import pandas as pd\n",
    "import matplotlib.pyplot as plt\n",
    "import os \n",
    "import random\n",
    "import seaborn as sn"
   ]
  },
  {
   "cell_type": "markdown",
   "id": "f44452cd-74b2-43ca-9468-55c42e124797",
   "metadata": {},
   "source": [
    "## DATA PREPROCESSING "
   ]
  },
  {
   "cell_type": "markdown",
   "id": "d3a4a8e6-e426-45c3-bcb3-9d4ba988e068",
   "metadata": {},
   "source": [
    "#### THIS READ FILE MEHTOD FOR KERNAL ONLY VERSION ON KAGGLE "
   ]
  },
  {
   "cell_type": "code",
   "execution_count": 5,
   "id": "87438101-9942-4d21-abfa-74e5a19ab224",
   "metadata": {},
   "outputs": [],
   "source": [
    "# import numpy as np # linear algebra\n",
    "# import pandas as pd # data processing, CSV file I/O (e.g. pd.read_csv)\n",
    "\n",
    "# # Input data files are available in the read-only \"../input/\" directory\n",
    "# # For example, running this (by clicking run or pressing Shift+Enter) will list all files under the input directory\n",
    "\n",
    "# import os\n",
    "# for dirname, _, filenames in os.walk('/kaggle/input'):\n",
    "#     for filename in filenames:\n",
    "#         print(os.path.join(dirname, filename))\n",
    "\n",
    "# train_df = pd.read_csv(\"/kaggle/input/pubg-finish-placement-prediction/train_V2.csv\")\n"
   ]
  },
  {
   "cell_type": "markdown",
   "id": "68e220f2-7337-41b0-9922-54336164e5d4",
   "metadata": {},
   "source": [
    "#### THIS READ FILE MEHTOD FOR RUNNING ON YOUR LOCAL MACHINE "
   ]
  },
  {
   "cell_type": "code",
   "execution_count": 3,
   "id": "e2f7496e-aec3-4c01-b04d-a7189822bf49",
   "metadata": {},
   "outputs": [],
   "source": [
    "train_df=pd.read_csv('train.csv')"
   ]
  },
  {
   "cell_type": "code",
   "execution_count": 4,
   "id": "5a819bb1-b666-49c9-9b29-230adc01fa81",
   "metadata": {},
   "outputs": [
    {
     "data": {
      "text/html": [
       "<div>\n",
       "<style scoped>\n",
       "    .dataframe tbody tr th:only-of-type {\n",
       "        vertical-align: middle;\n",
       "    }\n",
       "\n",
       "    .dataframe tbody tr th {\n",
       "        vertical-align: top;\n",
       "    }\n",
       "\n",
       "    .dataframe thead th {\n",
       "        text-align: right;\n",
       "    }\n",
       "</style>\n",
       "<table border=\"1\" class=\"dataframe\">\n",
       "  <thead>\n",
       "    <tr style=\"text-align: right;\">\n",
       "      <th></th>\n",
       "      <th>Id</th>\n",
       "      <th>groupId</th>\n",
       "      <th>matchId</th>\n",
       "      <th>assists</th>\n",
       "      <th>boosts</th>\n",
       "      <th>damageDealt</th>\n",
       "      <th>DBNOs</th>\n",
       "      <th>headshotKills</th>\n",
       "      <th>heals</th>\n",
       "      <th>killPlace</th>\n",
       "      <th>...</th>\n",
       "      <th>revives</th>\n",
       "      <th>rideDistance</th>\n",
       "      <th>roadKills</th>\n",
       "      <th>swimDistance</th>\n",
       "      <th>teamKills</th>\n",
       "      <th>vehicleDestroys</th>\n",
       "      <th>walkDistance</th>\n",
       "      <th>weaponsAcquired</th>\n",
       "      <th>winPoints</th>\n",
       "      <th>winPlacePerc</th>\n",
       "    </tr>\n",
       "  </thead>\n",
       "  <tbody>\n",
       "    <tr>\n",
       "      <th>0</th>\n",
       "      <td>7f96b2f878858a</td>\n",
       "      <td>4d4b580de459be</td>\n",
       "      <td>a10357fd1a4a91</td>\n",
       "      <td>0</td>\n",
       "      <td>0</td>\n",
       "      <td>0.00</td>\n",
       "      <td>0</td>\n",
       "      <td>0</td>\n",
       "      <td>0</td>\n",
       "      <td>60</td>\n",
       "      <td>...</td>\n",
       "      <td>0</td>\n",
       "      <td>0.0000</td>\n",
       "      <td>0</td>\n",
       "      <td>0.00</td>\n",
       "      <td>0</td>\n",
       "      <td>0</td>\n",
       "      <td>244.80</td>\n",
       "      <td>1</td>\n",
       "      <td>1466</td>\n",
       "      <td>0.4444</td>\n",
       "    </tr>\n",
       "    <tr>\n",
       "      <th>1</th>\n",
       "      <td>eef90569b9d03c</td>\n",
       "      <td>684d5656442f9e</td>\n",
       "      <td>aeb375fc57110c</td>\n",
       "      <td>0</td>\n",
       "      <td>0</td>\n",
       "      <td>91.47</td>\n",
       "      <td>0</td>\n",
       "      <td>0</td>\n",
       "      <td>0</td>\n",
       "      <td>57</td>\n",
       "      <td>...</td>\n",
       "      <td>0</td>\n",
       "      <td>0.0045</td>\n",
       "      <td>0</td>\n",
       "      <td>11.04</td>\n",
       "      <td>0</td>\n",
       "      <td>0</td>\n",
       "      <td>1434.00</td>\n",
       "      <td>5</td>\n",
       "      <td>0</td>\n",
       "      <td>0.6400</td>\n",
       "    </tr>\n",
       "    <tr>\n",
       "      <th>2</th>\n",
       "      <td>1eaf90ac73de72</td>\n",
       "      <td>6a4a42c3245a74</td>\n",
       "      <td>110163d8bb94ae</td>\n",
       "      <td>1</td>\n",
       "      <td>0</td>\n",
       "      <td>68.00</td>\n",
       "      <td>0</td>\n",
       "      <td>0</td>\n",
       "      <td>0</td>\n",
       "      <td>47</td>\n",
       "      <td>...</td>\n",
       "      <td>0</td>\n",
       "      <td>0.0000</td>\n",
       "      <td>0</td>\n",
       "      <td>0.00</td>\n",
       "      <td>0</td>\n",
       "      <td>0</td>\n",
       "      <td>161.80</td>\n",
       "      <td>2</td>\n",
       "      <td>0</td>\n",
       "      <td>0.7755</td>\n",
       "    </tr>\n",
       "    <tr>\n",
       "      <th>3</th>\n",
       "      <td>4616d365dd2853</td>\n",
       "      <td>a930a9c79cd721</td>\n",
       "      <td>f1f1f4ef412d7e</td>\n",
       "      <td>0</td>\n",
       "      <td>0</td>\n",
       "      <td>32.90</td>\n",
       "      <td>0</td>\n",
       "      <td>0</td>\n",
       "      <td>0</td>\n",
       "      <td>75</td>\n",
       "      <td>...</td>\n",
       "      <td>0</td>\n",
       "      <td>0.0000</td>\n",
       "      <td>0</td>\n",
       "      <td>0.00</td>\n",
       "      <td>0</td>\n",
       "      <td>0</td>\n",
       "      <td>202.70</td>\n",
       "      <td>3</td>\n",
       "      <td>0</td>\n",
       "      <td>0.1667</td>\n",
       "    </tr>\n",
       "    <tr>\n",
       "      <th>4</th>\n",
       "      <td>315c96c26c9aac</td>\n",
       "      <td>de04010b3458dd</td>\n",
       "      <td>6dc8ff871e21e6</td>\n",
       "      <td>0</td>\n",
       "      <td>0</td>\n",
       "      <td>100.00</td>\n",
       "      <td>0</td>\n",
       "      <td>0</td>\n",
       "      <td>0</td>\n",
       "      <td>45</td>\n",
       "      <td>...</td>\n",
       "      <td>0</td>\n",
       "      <td>0.0000</td>\n",
       "      <td>0</td>\n",
       "      <td>0.00</td>\n",
       "      <td>0</td>\n",
       "      <td>0</td>\n",
       "      <td>49.75</td>\n",
       "      <td>2</td>\n",
       "      <td>0</td>\n",
       "      <td>0.1875</td>\n",
       "    </tr>\n",
       "  </tbody>\n",
       "</table>\n",
       "<p>5 rows × 29 columns</p>\n",
       "</div>"
      ],
      "text/plain": [
       "               Id         groupId         matchId  assists  boosts  \\\n",
       "0  7f96b2f878858a  4d4b580de459be  a10357fd1a4a91        0       0   \n",
       "1  eef90569b9d03c  684d5656442f9e  aeb375fc57110c        0       0   \n",
       "2  1eaf90ac73de72  6a4a42c3245a74  110163d8bb94ae        1       0   \n",
       "3  4616d365dd2853  a930a9c79cd721  f1f1f4ef412d7e        0       0   \n",
       "4  315c96c26c9aac  de04010b3458dd  6dc8ff871e21e6        0       0   \n",
       "\n",
       "   damageDealt  DBNOs  headshotKills  heals  killPlace  ...  revives  \\\n",
       "0         0.00      0              0      0         60  ...        0   \n",
       "1        91.47      0              0      0         57  ...        0   \n",
       "2        68.00      0              0      0         47  ...        0   \n",
       "3        32.90      0              0      0         75  ...        0   \n",
       "4       100.00      0              0      0         45  ...        0   \n",
       "\n",
       "   rideDistance  roadKills  swimDistance  teamKills vehicleDestroys  \\\n",
       "0        0.0000          0          0.00          0               0   \n",
       "1        0.0045          0         11.04          0               0   \n",
       "2        0.0000          0          0.00          0               0   \n",
       "3        0.0000          0          0.00          0               0   \n",
       "4        0.0000          0          0.00          0               0   \n",
       "\n",
       "   walkDistance  weaponsAcquired  winPoints  winPlacePerc  \n",
       "0        244.80                1       1466        0.4444  \n",
       "1       1434.00                5          0        0.6400  \n",
       "2        161.80                2          0        0.7755  \n",
       "3        202.70                3          0        0.1667  \n",
       "4         49.75                2          0        0.1875  \n",
       "\n",
       "[5 rows x 29 columns]"
      ]
     },
     "execution_count": 4,
     "metadata": {},
     "output_type": "execute_result"
    }
   ],
   "source": [
    "train_df.head()"
   ]
  },
  {
   "cell_type": "code",
   "execution_count": 5,
   "id": "e4500df9-e8c3-44f5-bbaa-4d1ba26ada1f",
   "metadata": {},
   "outputs": [
    {
     "data": {
      "text/plain": [
       "Id                 0\n",
       "groupId            0\n",
       "matchId            0\n",
       "assists            0\n",
       "boosts             0\n",
       "damageDealt        0\n",
       "DBNOs              0\n",
       "headshotKills      0\n",
       "heals              0\n",
       "killPlace          0\n",
       "killPoints         0\n",
       "kills              0\n",
       "killStreaks        0\n",
       "longestKill        0\n",
       "matchDuration      0\n",
       "matchType          0\n",
       "maxPlace           0\n",
       "numGroups          0\n",
       "rankPoints         0\n",
       "revives            0\n",
       "rideDistance       0\n",
       "roadKills          0\n",
       "swimDistance       0\n",
       "teamKills          0\n",
       "vehicleDestroys    0\n",
       "walkDistance       0\n",
       "weaponsAcquired    0\n",
       "winPoints          0\n",
       "winPlacePerc       1\n",
       "dtype: int64"
      ]
     },
     "execution_count": 5,
     "metadata": {},
     "output_type": "execute_result"
    }
   ],
   "source": [
    "train_df.isnull().sum()"
   ]
  },
  {
   "cell_type": "code",
   "execution_count": 6,
   "id": "0bf1cb9f-782d-4373-8b75-416142381bb2",
   "metadata": {},
   "outputs": [],
   "source": [
    "# sn.heatmap(train_df.isnull(),yticklabels='auto',cbar='auto',cmap='viridis')"
   ]
  },
  {
   "cell_type": "code",
   "execution_count": 7,
   "id": "51fb1810-f159-4b01-89b1-231ee440d068",
   "metadata": {},
   "outputs": [
    {
     "name": "stdout",
     "output_type": "stream",
     "text": [
      "0          0.4444\n",
      "1          0.6400\n",
      "2          0.7755\n",
      "3          0.1667\n",
      "4          0.1875\n",
      "            ...  \n",
      "4446961    0.1786\n",
      "4446962    0.2935\n",
      "4446963    0.4815\n",
      "4446964    0.8000\n",
      "4446965    0.5464\n",
      "Name: winPlacePerc, Length: 4446966, dtype: float64\n"
     ]
    }
   ],
   "source": [
    "print(train_df['winPlacePerc'])"
   ]
  },
  {
   "cell_type": "code",
   "execution_count": 8,
   "id": "8f27caa5-aad9-4eff-a4a5-99e42c20202a",
   "metadata": {},
   "outputs": [
    {
     "data": {
      "text/plain": [
       "1"
      ]
     },
     "execution_count": 8,
     "metadata": {},
     "output_type": "execute_result"
    }
   ],
   "source": [
    "train_df['winPlacePerc'].isnull().sum()"
   ]
  },
  {
   "cell_type": "markdown",
   "id": "aa204bd4-a8e6-42e7-8df0-4e86216fe3dc",
   "metadata": {},
   "source": [
    "### Handling null values"
   ]
  },
  {
   "cell_type": "code",
   "execution_count": 9,
   "id": "7713337e-c92d-4dae-a199-7908c27b9be3",
   "metadata": {},
   "outputs": [],
   "source": [
    "mean_value = train_df['winPlacePerc'].mean()\n",
    "null_index = train_df['winPlacePerc'][train_df['winPlacePerc'].isnull()].index[0]\n",
    "train_df.at[null_index, 'winPlacePerc'] = mean_value\n"
   ]
  },
  {
   "cell_type": "code",
   "execution_count": 10,
   "id": "94ec7548-5808-4c49-a53c-b10ec54b792e",
   "metadata": {},
   "outputs": [
    {
     "data": {
      "text/plain": [
       "0"
      ]
     },
     "execution_count": 10,
     "metadata": {},
     "output_type": "execute_result"
    }
   ],
   "source": [
    "train_df['winPlacePerc'].isnull().sum()"
   ]
  },
  {
   "cell_type": "code",
   "execution_count": 11,
   "id": "12644bc0-256b-46d2-9fb4-293e844e62e5",
   "metadata": {},
   "outputs": [
    {
     "data": {
      "text/plain": [
       "Id                 0\n",
       "groupId            0\n",
       "matchId            0\n",
       "assists            0\n",
       "boosts             0\n",
       "damageDealt        0\n",
       "DBNOs              0\n",
       "headshotKills      0\n",
       "heals              0\n",
       "killPlace          0\n",
       "killPoints         0\n",
       "kills              0\n",
       "killStreaks        0\n",
       "longestKill        0\n",
       "matchDuration      0\n",
       "matchType          0\n",
       "maxPlace           0\n",
       "numGroups          0\n",
       "rankPoints         0\n",
       "revives            0\n",
       "rideDistance       0\n",
       "roadKills          0\n",
       "swimDistance       0\n",
       "teamKills          0\n",
       "vehicleDestroys    0\n",
       "walkDistance       0\n",
       "weaponsAcquired    0\n",
       "winPoints          0\n",
       "winPlacePerc       0\n",
       "dtype: int64"
      ]
     },
     "execution_count": 11,
     "metadata": {},
     "output_type": "execute_result"
    }
   ],
   "source": [
    "train_df.isnull().sum()"
   ]
  },
  {
   "cell_type": "code",
   "execution_count": 12,
   "id": "640ff1c7-e4ff-49df-9343-28d693b74c5e",
   "metadata": {},
   "outputs": [],
   "source": [
    "train_df.drop(['vehicleDestroys','matchType','DBNOs'],axis=1,inplace=True)"
   ]
  },
  {
   "cell_type": "code",
   "execution_count": 13,
   "id": "8efa99b9-dc56-465e-9f43-69677f4c8908",
   "metadata": {},
   "outputs": [],
   "source": [
    "train_df.drop(['Id','groupId','matchId'],axis=1,inplace=True)"
   ]
  },
  {
   "cell_type": "code",
   "execution_count": 14,
   "id": "2a7474ce-3a41-4da0-844f-67c9432b3dda",
   "metadata": {},
   "outputs": [
    {
     "data": {
      "text/plain": [
       "(4446966, 23)"
      ]
     },
     "execution_count": 14,
     "metadata": {},
     "output_type": "execute_result"
    }
   ],
   "source": [
    "train_df.shape"
   ]
  },
  {
   "cell_type": "markdown",
   "id": "3b6c6669-c369-4edb-969b-461940c85035",
   "metadata": {},
   "source": [
    "## TRAINING AND TESTING ON ML ALGORITHMS"
   ]
  },
  {
   "cell_type": "code",
   "execution_count": 15,
   "id": "c66708ac-29e7-45c8-a4c7-7cbc2fa24f6c",
   "metadata": {},
   "outputs": [],
   "source": [
    "from sklearn.model_selection import train_test_split"
   ]
  },
  {
   "cell_type": "code",
   "execution_count": 16,
   "id": "165c9471-b980-4703-9f92-5ede91f86b4a",
   "metadata": {},
   "outputs": [],
   "source": [
    "y=train_df['winPlacePerc']"
   ]
  },
  {
   "cell_type": "code",
   "execution_count": 17,
   "id": "6742c079-8526-4c1d-b38e-922f66c28ff5",
   "metadata": {},
   "outputs": [],
   "source": [
    "train_df.drop(['winPlacePerc'],axis=1,inplace=True)\n",
    "# train_df.isnull().sum()"
   ]
  },
  {
   "cell_type": "code",
   "execution_count": 18,
   "id": "4fe2c16c-259c-4564-b447-dd5d864bfd9b",
   "metadata": {},
   "outputs": [
    {
     "data": {
      "text/plain": [
       "(4446966, 22)"
      ]
     },
     "execution_count": 18,
     "metadata": {},
     "output_type": "execute_result"
    }
   ],
   "source": [
    "x=train_df\n",
    "x.shape"
   ]
  },
  {
   "cell_type": "code",
   "execution_count": 19,
   "id": "b3f14ed7-57d1-45b4-9635-e6eabec3d5a7",
   "metadata": {},
   "outputs": [],
   "source": [
    "# y.shape"
   ]
  },
  {
   "cell_type": "code",
   "execution_count": 20,
   "id": "b9ea61b9-c8b6-470e-869a-e216b5b876e4",
   "metadata": {},
   "outputs": [],
   "source": [
    "y = [int(label) for label in y]"
   ]
  },
  {
   "cell_type": "code",
   "execution_count": 21,
   "id": "0b7a1435-bc7d-4d4f-8266-a6c578b1cf35",
   "metadata": {},
   "outputs": [
    {
     "name": "stdout",
     "output_type": "stream",
     "text": [
      "<class 'pandas.core.frame.DataFrame'>\n",
      "RangeIndex: 4446966 entries, 0 to 4446965\n",
      "Data columns (total 22 columns):\n",
      " #   Column           Dtype  \n",
      "---  ------           -----  \n",
      " 0   assists          int64  \n",
      " 1   boosts           int64  \n",
      " 2   damageDealt      float64\n",
      " 3   headshotKills    int64  \n",
      " 4   heals            int64  \n",
      " 5   killPlace        int64  \n",
      " 6   killPoints       int64  \n",
      " 7   kills            int64  \n",
      " 8   killStreaks      int64  \n",
      " 9   longestKill      float64\n",
      " 10  matchDuration    int64  \n",
      " 11  maxPlace         int64  \n",
      " 12  numGroups        int64  \n",
      " 13  rankPoints       int64  \n",
      " 14  revives          int64  \n",
      " 15  rideDistance     float64\n",
      " 16  roadKills        int64  \n",
      " 17  swimDistance     float64\n",
      " 18  teamKills        int64  \n",
      " 19  walkDistance     float64\n",
      " 20  weaponsAcquired  int64  \n",
      " 21  winPoints        int64  \n",
      "dtypes: float64(5), int64(17)\n",
      "memory usage: 746.4 MB\n"
     ]
    }
   ],
   "source": [
    "train_df.info()"
   ]
  },
  {
   "cell_type": "code",
   "execution_count": 22,
   "id": "d6b161f9-146f-4fb4-bfcf-f12b48fd0736",
   "metadata": {},
   "outputs": [],
   "source": [
    "X_train,X_test,Y_train,Y_test=train_test_split(x,y,test_size=0.10,random_state=10)"
   ]
  },
  {
   "cell_type": "markdown",
   "id": "21064360-50e7-4f8d-9af6-4d55d9329c95",
   "metadata": {},
   "source": [
    "## Training and Testing on Different ML ALGORITHM "
   ]
  },
  {
   "cell_type": "code",
   "execution_count": 23,
   "id": "561e1a66-1ce3-446c-9aef-5bd0db67c199",
   "metadata": {},
   "outputs": [],
   "source": [
    "##importing libaries\n",
    "from sklearn.svm import SVC\n",
    "from sklearn.linear_model import LogisticRegression \n",
    "from sklearn.ensemble import RandomForestClassifier\n",
    "from sklearn.metrics import accuracy_score\n",
    "from sklearn import metrics\n",
    "from sklearn.metrics import confusion_matrix"
   ]
  },
  {
   "cell_type": "code",
   "execution_count": 24,
   "id": "73e0b805-5c95-4224-8316-422684980e74",
   "metadata": {},
   "outputs": [],
   "source": [
    "# linear model\n",
    "# model1 = SVC(kernel='linear')\n",
    "# model1.fit(X_train, Y_train)\n",
    "# # predict\n",
    "# y_pred = model1.predict(X_test)\n",
    "# print(\"accuracy using SVC :\", metrics.accuracy_score(y_true=Y_test, y_pred=y_pred), \"\\n\")"
   ]
  },
  {
   "cell_type": "code",
   "execution_count": 25,
   "id": "5486f053-9626-43da-97d7-35b6538bec52",
   "metadata": {},
   "outputs": [],
   "source": [
    "# model2=LogisticRegression(solver='lbfgs', max_iter=10)\n",
    "# model2.fit(X_train,Y_train)\n",
    "# predication=model2.predict(X_test)\n",
    "# accuracy=accuracy_score(Y_test,predication)\n",
    "# print(\"accuracy using LogisticRegression\",accuracy*100)"
   ]
  },
  {
   "cell_type": "code",
   "execution_count": 26,
   "id": "4adec75c-7775-4ca6-80ac-7cd8c133e698",
   "metadata": {},
   "outputs": [],
   "source": [
    "# from sklearn.ensemble import RandomForestClassifier\n",
    "# model3=RandomForestClassifier(n_estimators=10, max_depth=5, random_state=10)\n",
    "# model3.fit(X_train,Y_train)\n",
    "# predication=model3.predict(X_test)\n",
    "# accuracy=accuracy_score(Y_test,predication)\n",
    "# print(\"accuracy using RandomForestClassifier\",accuracy*100)\n"
   ]
  },
  {
   "cell_type": "code",
   "execution_count": null,
   "id": "3769759d-4f64-4cb2-ba19-a6fb2f52d701",
   "metadata": {},
   "outputs": [],
   "source": [
    "import xgboost \n",
    "model3=xgboost.XGBRegressor()\n",
    "model3.fit(X_train,Y_train)\n",
    "# predication=model3.predict(X_test)\n",
    "# accuracy=accuracy_score(Y_test,predication)\n",
    "# print(\"accuracy using RandomForestClassifier\",accuracy*100)"
   ]
  },
  {
   "cell_type": "code",
   "execution_count": 27,
   "id": "61240cba-5196-45fc-92d3-d1628e18ad85",
   "metadata": {},
   "outputs": [],
   "source": [
    "# train_df.info()"
   ]
  },
  {
   "cell_type": "markdown",
   "id": "a926e834-d92d-4d26-a45e-eebcab1476cf",
   "metadata": {},
   "source": [
    "## Testing and Sumbission"
   ]
  },
  {
   "cell_type": "code",
   "execution_count": 28,
   "id": "119faca0-7890-4dd8-8663-79430c874582",
   "metadata": {},
   "outputs": [],
   "source": [
    "test_df=pd.read_csv('test.csv')"
   ]
  },
  {
   "cell_type": "code",
   "execution_count": 29,
   "id": "b701eecb-ce2e-464f-993b-75fbae7b48ea",
   "metadata": {},
   "outputs": [
    {
     "name": "stdout",
     "output_type": "stream",
     "text": [
      "<class 'pandas.core.frame.DataFrame'>\n",
      "RangeIndex: 1934174 entries, 0 to 1934173\n",
      "Data columns (total 28 columns):\n",
      " #   Column           Dtype  \n",
      "---  ------           -----  \n",
      " 0   Id               object \n",
      " 1   groupId          object \n",
      " 2   matchId          object \n",
      " 3   assists          int64  \n",
      " 4   boosts           int64  \n",
      " 5   damageDealt      float64\n",
      " 6   DBNOs            int64  \n",
      " 7   headshotKills    int64  \n",
      " 8   heals            int64  \n",
      " 9   killPlace        int64  \n",
      " 10  killPoints       int64  \n",
      " 11  kills            int64  \n",
      " 12  killStreaks      int64  \n",
      " 13  longestKill      float64\n",
      " 14  matchDuration    int64  \n",
      " 15  matchType        object \n",
      " 16  maxPlace         int64  \n",
      " 17  numGroups        int64  \n",
      " 18  rankPoints       int64  \n",
      " 19  revives          int64  \n",
      " 20  rideDistance     float64\n",
      " 21  roadKills        int64  \n",
      " 22  swimDistance     float64\n",
      " 23  teamKills        int64  \n",
      " 24  vehicleDestroys  int64  \n",
      " 25  walkDistance     float64\n",
      " 26  weaponsAcquired  int64  \n",
      " 27  winPoints        int64  \n",
      "dtypes: float64(5), int64(19), object(4)\n",
      "memory usage: 413.2+ MB\n"
     ]
    }
   ],
   "source": [
    "test_df.info()"
   ]
  },
  {
   "cell_type": "code",
   "execution_count": 30,
   "id": "34a7de5f-a02f-4b26-93c3-ee84e155b64a",
   "metadata": {},
   "outputs": [],
   "source": [
    "test_df.drop(['vehicleDestroys','matchType','DBNOs'],axis=1,inplace=True)"
   ]
  },
  {
   "cell_type": "code",
   "execution_count": 31,
   "id": "2643bec5-0d56-4e29-be89-51c9496d6afd",
   "metadata": {},
   "outputs": [],
   "source": [
    "test_df.drop(['Id','groupId','matchId'],axis=1,inplace=True)"
   ]
  },
  {
   "cell_type": "code",
   "execution_count": 32,
   "id": "1ae96249-7245-4f9c-9ccd-d3948460e3c0",
   "metadata": {},
   "outputs": [
    {
     "name": "stdout",
     "output_type": "stream",
     "text": [
      "<class 'pandas.core.frame.DataFrame'>\n",
      "RangeIndex: 1934174 entries, 0 to 1934173\n",
      "Data columns (total 22 columns):\n",
      " #   Column           Dtype  \n",
      "---  ------           -----  \n",
      " 0   assists          int64  \n",
      " 1   boosts           int64  \n",
      " 2   damageDealt      float64\n",
      " 3   headshotKills    int64  \n",
      " 4   heals            int64  \n",
      " 5   killPlace        int64  \n",
      " 6   killPoints       int64  \n",
      " 7   kills            int64  \n",
      " 8   killStreaks      int64  \n",
      " 9   longestKill      float64\n",
      " 10  matchDuration    int64  \n",
      " 11  maxPlace         int64  \n",
      " 12  numGroups        int64  \n",
      " 13  rankPoints       int64  \n",
      " 14  revives          int64  \n",
      " 15  rideDistance     float64\n",
      " 16  roadKills        int64  \n",
      " 17  swimDistance     float64\n",
      " 18  teamKills        int64  \n",
      " 19  walkDistance     float64\n",
      " 20  weaponsAcquired  int64  \n",
      " 21  winPoints        int64  \n",
      "dtypes: float64(5), int64(17)\n",
      "memory usage: 324.6 MB\n"
     ]
    }
   ],
   "source": [
    "test_df.info()"
   ]
  },
  {
   "cell_type": "code",
   "execution_count": 33,
   "id": "718d9f0c-60f6-49f4-8cd5-6db38644064e",
   "metadata": {},
   "outputs": [],
   "source": [
    "test=pd.read_csv('test.csv')"
   ]
  },
  {
   "cell_type": "code",
   "execution_count": 34,
   "id": "4fa8ca3f-07c3-4ef9-9b15-af9d3391219f",
   "metadata": {},
   "outputs": [],
   "source": [
    "# predications=model1.predict(test_df)\n",
    "# output = pd.DataFrame({'Id': test.Id, 'Survived': predications})\n",
    "# output.to_csv('submission_svc.csv', index=False)\n",
    "# print(\"Your submission was successfully saved!\")"
   ]
  },
  {
   "cell_type": "code",
   "execution_count": 35,
   "id": "acc3d262-c955-4c6a-b0b8-8643cef384a0",
   "metadata": {},
   "outputs": [],
   "source": [
    "# predications=model2.predict(test_df)\n",
    "# output = pd.DataFrame({'Id': test.Id, 'Survived': predications})\n",
    "# output.to_csv('submission_logistic.csv', index=False)\n",
    "# print(\"Your submission was successfully saved!\")"
   ]
  },
  {
   "cell_type": "code",
   "execution_count": 36,
   "id": "ae90453d-0e7f-4e41-a60a-08497ec3b4a3",
   "metadata": {},
   "outputs": [],
   "source": [
    "# predications=model3.predict(test_df)\n",
    "# output = pd.DataFrame({'Id': test.Id, 'Survived': predications})\n",
    "# output.to_csv('submission_random_forest.csv', index=False)\n",
    "# print(\"Your submission was successfully saved!\")"
   ]
  },
  {
   "cell_type": "markdown",
   "id": "f9c50ed9-7da9-4c75-9700-ed49dc0b5fdb",
   "metadata": {},
   "source": [
    "## CNN "
   ]
  },
  {
   "cell_type": "code",
   "execution_count": 37,
   "id": "34ac3b7a-dc17-4f0f-93ec-4c5a0dc982f2",
   "metadata": {},
   "outputs": [],
   "source": [
    "import tensorflow as tf\n",
    "from tensorflow import keras\n",
    "from tensorflow.keras.preprocessing.image import load_img\n",
    "from tensorflow.keras.preprocessing.image import ImageDataGenerator\n",
    "from keras.utils import to_categorical\n",
    "from sklearn.model_selection import train_test_split\n",
    "from keras.models import Sequential\n",
    "from keras import layers\n",
    "from keras.layers import Conv1D, MaxPooling1D, Dropout, Flatten, Dense, Activation,GlobalMaxPooling1D\n",
    "from keras import applications\n",
    "from keras import optimizers\n",
    "from keras.models import Model\n",
    "from keras.preprocessing.image import array_to_img, img_to_array"
   ]
  },
  {
   "cell_type": "code",
   "execution_count": 38,
   "id": "bb682de3-6a30-4cf3-a2b6-ccdc9710b228",
   "metadata": {},
   "outputs": [
    {
     "name": "stdout",
     "output_type": "stream",
     "text": [
      "<class 'pandas.core.frame.DataFrame'>\n",
      "RangeIndex: 4446966 entries, 0 to 4446965\n",
      "Data columns (total 22 columns):\n",
      " #   Column           Dtype  \n",
      "---  ------           -----  \n",
      " 0   assists          int64  \n",
      " 1   boosts           int64  \n",
      " 2   damageDealt      float64\n",
      " 3   headshotKills    int64  \n",
      " 4   heals            int64  \n",
      " 5   killPlace        int64  \n",
      " 6   killPoints       int64  \n",
      " 7   kills            int64  \n",
      " 8   killStreaks      int64  \n",
      " 9   longestKill      float64\n",
      " 10  matchDuration    int64  \n",
      " 11  maxPlace         int64  \n",
      " 12  numGroups        int64  \n",
      " 13  rankPoints       int64  \n",
      " 14  revives          int64  \n",
      " 15  rideDistance     float64\n",
      " 16  roadKills        int64  \n",
      " 17  swimDistance     float64\n",
      " 18  teamKills        int64  \n",
      " 19  walkDistance     float64\n",
      " 20  weaponsAcquired  int64  \n",
      " 21  winPoints        int64  \n",
      "dtypes: float64(5), int64(17)\n",
      "memory usage: 746.4 MB\n"
     ]
    }
   ],
   "source": [
    "train_df.info()"
   ]
  },
  {
   "cell_type": "code",
   "execution_count": 39,
   "id": "d5864368-4505-46e4-ae21-4c023144b2d0",
   "metadata": {},
   "outputs": [],
   "source": [
    "# 21 FEATURES 1 CHANNEL "
   ]
  },
  {
   "cell_type": "code",
   "execution_count": 40,
   "id": "498f87d7-2ba4-4db1-a4b1-06aaec42fc6f",
   "metadata": {},
   "outputs": [],
   "source": [
    "model=Sequential()"
   ]
  },
  {
   "cell_type": "code",
   "execution_count": 1,
   "id": "b2ef8686-2a92-4cb0-9bf3-124f26ad8a97",
   "metadata": {},
   "outputs": [],
   "source": [
    "# model = Sequential()\n",
    "# model.add(Conv1D(filters=32, kernel_size=3, activation='relu', input_shape=(21, 1)))\n",
    "# model.add(MaxPooling1D(pool_size=2))\n",
    "# model.add(Flatten())\n",
    "# model.add(Dense(320, activation='relu'))\n",
    "# model.add(Dense(1, activation='sigmoid'))"
   ]
  },
  {
   "cell_type": "code",
   "execution_count": 2,
   "id": "78da0e1c-3945-41fd-a185-de6c8333eeb8",
   "metadata": {},
   "outputs": [],
   "source": [
    "# X_train=np.array(X_train)\n",
    "# Y_train=np.array(Y_train)"
   ]
  },
  {
   "cell_type": "code",
   "execution_count": 3,
   "id": "166d4b17-c754-4c0a-9ace-7246e2786bda",
   "metadata": {},
   "outputs": [],
   "source": [
    "# x_train = x_train.reshape(-1, 22*22)\n",
    "# x_train = x_train.astype('float32') / 255\n",
    "\n",
    "# # train set / target \n",
    "# y_train = tf.keras.utils.to_categorical(y_train , num_classes=2)"
   ]
  },
  {
   "cell_type": "code",
   "execution_count": 4,
   "id": "fd3f5cf0-96a0-4cb0-89e9-15437fef2ea6",
   "metadata": {},
   "outputs": [],
   "source": [
    "# model.compile(optimizer='adam',\n",
    "#               loss='categorical_crossentropy',\n",
    "#               metrics=['accuracy'])\n",
    "# model.fit(X_train, Y_train, epochs=3, batch_size=32, validation_split=0.2)"
   ]
  },
  {
   "cell_type": "code",
   "execution_count": null,
   "id": "db4931bf-4985-4325-8dbc-655bbba17f7f",
   "metadata": {},
   "outputs": [],
   "source": []
  }
 ],
 "metadata": {
  "kernelspec": {
   "display_name": "Python 3 (ipykernel)",
   "language": "python",
   "name": "python3"
  },
  "language_info": {
   "codemirror_mode": {
    "name": "ipython",
    "version": 3
   },
   "file_extension": ".py",
   "mimetype": "text/x-python",
   "name": "python",
   "nbconvert_exporter": "python",
   "pygments_lexer": "ipython3",
   "version": "3.11.9"
  }
 },
 "nbformat": 4,
 "nbformat_minor": 5
}
